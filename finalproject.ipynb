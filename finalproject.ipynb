{
 "cells": [
  {
   "cell_type": "code",
   "execution_count": 1,
   "metadata": {},
   "outputs": [],
   "source": [
    "import csv\n",
    "import pandas as pd\n",
    "import numpy as np\n",
    "import itertools\n",
    "from scipy.sparse import csr_matrix\n",
    "from scipy.sparse import save_npz, load_npz\n",
    "from pandas import read_csv\n",
    "from scipy.sparse import hstack\n",
    "from math import exp\n",
    "from sklearn import preprocessing"
   ]
  },
  {
   "cell_type": "code",
   "execution_count": 2,
   "metadata": {},
   "outputs": [],
   "source": [
    "sparse_mtx=load_npz('training_sparse_new.npz')"
   ]
  },
  {
   "cell_type": "code",
   "execution_count": 3,
   "metadata": {},
   "outputs": [],
   "source": [
    "m=sparse_mtx.shape[0]\n",
    "n=sparse_mtx.shape[1]"
   ]
  },
  {
   "cell_type": "code",
   "execution_count": 4,
   "metadata": {
    "scrolled": true
   },
   "outputs": [
    {
     "data": {
      "text/plain": [
       "(12000, 1)"
      ]
     },
     "execution_count": 4,
     "metadata": {},
     "output_type": "execute_result"
    }
   ],
   "source": [
    "data_class=pd.read_csv('solu.csv',header=None)\n",
    "data_class.shape"
   ]
  },
  {
   "cell_type": "code",
   "execution_count": 92,
   "metadata": {},
   "outputs": [],
   "source": [
    "def weights():\n",
    "    w=np.zeros((20,61189))\n",
    "    w[:,:]=0.01 \n",
    "    w=csr_matrix(w)\n",
    "    return w\n",
    "\n"
   ]
  },
  {
   "cell_type": "code",
   "execution_count": 16,
   "metadata": {},
   "outputs": [],
   "source": [
    "def probX(W,sparse_mtx):\n",
    "    probarr=W.dot(sparse_mtx.T) \n",
    "    probarr=probarr.expm1()\n",
    "    probarr=norml(probarr)   \n",
    "    return(probarr)\n",
    "\n",
    "\n",
    "    "
   ]
  },
  {
   "cell_type": "code",
   "execution_count": 17,
   "metadata": {},
   "outputs": [],
   "source": [
    "def norml(mtx):\n",
    "    X_normalized = preprocessing.normalize(mtx, norm='l2',axis=0)\n",
    "    return X_normalized"
   ]
  },
  {
   "cell_type": "code",
   "execution_count": 18,
   "metadata": {},
   "outputs": [],
   "source": [
    "\n",
    "def delta_y(y, unique_classes):\n",
    "    output = np.zeros((len(unique_classes), y.shape[0]),dtype=np.float16)\n",
    "    for c in unique_classes:\n",
    "        output[c-1, :] = np.where(y==c, 1., 0.).transpose()                                                                                                                                                                                                                               \n",
    "    return csr_matrix(output)"
   ]
  },
  {
   "cell_type": "code",
   "execution_count": 19,
   "metadata": {},
   "outputs": [],
   "source": [
    "def update_weight(w,x,d,learning_rate,penalty):\n",
    "    #w_new=(w+learning_rate*(d-probX(w,x))*x-penalty*w)\n",
    "    w_new=(d-probX(w,x))*x\n",
    "    w_new=w_new-(penalty*w)\n",
    "    w_new= w + learning_rate*w_new\n",
    "    \n",
    "    return(w_new)"
   ]
  },
  {
   "cell_type": "code",
   "execution_count": 109,
   "metadata": {},
   "outputs": [],
   "source": [
    "def training(X):     \n",
    "    x = norml(X)\n",
    "    w=weights() \n",
    "    learning_rate=.008\n",
    "    penalty=.001\n",
    "    u=np.unique(data_class)\n",
    "    d=csr_matrix(delta_y(data_class,u))   \n",
    "    for i in range(15):\n",
    "        #w_new=update_weight(w,x,d,learning_rate,penalty)\n",
    "        #print(w_new.shape)\n",
    "        h = probX(w, x)\n",
    "        error = (d - h)\n",
    "        prediction = error * x\n",
    "        w += learning_rate * (prediction - penalty * w)\n",
    "       \n",
    "    return w \n",
    "\n",
    "  "
   ]
  },
  {
   "cell_type": "code",
   "execution_count": 110,
   "metadata": {},
   "outputs": [],
   "source": [
    "# calling training function\n",
    "weight=training(sparse_mtx)"
   ]
  },
  {
   "cell_type": "code",
   "execution_count": 201,
   "metadata": {},
   "outputs": [],
   "source": [
    "#testing data "
   ]
  },
  {
   "cell_type": "code",
   "execution_count": 44,
   "metadata": {},
   "outputs": [],
   "source": [
    "testdata=pd.read_csv(r'C:\\Users\\harsh\\Desktop\\testing.csv',header=None)"
   ]
  },
  {
   "cell_type": "code",
   "execution_count": 47,
   "metadata": {},
   "outputs": [],
   "source": [
    "documents=testdata.iloc[:,0]"
   ]
  },
  {
   "cell_type": "code",
   "execution_count": 48,
   "metadata": {},
   "outputs": [],
   "source": [
    "data_new_test=testdata.drop([0],axis=1)"
   ]
  },
  {
   "cell_type": "code",
   "execution_count": 49,
   "metadata": {},
   "outputs": [],
   "source": [
    "A=np.ones(6774)\n",
    "data_new_test.insert(0,column=0,value=A)"
   ]
  },
  {
   "cell_type": "code",
   "execution_count": 50,
   "metadata": {},
   "outputs": [],
   "source": [
    "sparse_mtx_test=csr_matrix(data_new_test)"
   ]
  },
  {
   "cell_type": "code",
   "execution_count": 51,
   "metadata": {},
   "outputs": [],
   "source": [
    "save_npz('testing_sparse',sparse_mtx_test)"
   ]
  },
  {
   "cell_type": "code",
   "execution_count": 52,
   "metadata": {},
   "outputs": [],
   "source": [
    "sparse_test=load_npz('testing_sparse.npz')"
   ]
  },
  {
   "cell_type": "code",
   "execution_count": 53,
   "metadata": {},
   "outputs": [],
   "source": [
    "m=sparse_test.shape[0]\n",
    "n=sparse_test.shape[1]"
   ]
  },
  {
   "cell_type": "code",
   "execution_count": 111,
   "metadata": {},
   "outputs": [],
   "source": [
    "#calculate max prob.\n",
    "def testfunction(Xtest,weight):\n",
    "    Xtest=norml(Xtest)\n",
    "    A=probX(weight,Xtest)\n",
    "    col_argmax = [A.getcol(i).A.argmax() for i in range(A.shape[1])]    \n",
    "    return col_argmax    "
   ]
  },
  {
   "cell_type": "code",
   "execution_count": 112,
   "metadata": {},
   "outputs": [],
   "source": [
    "coltest=testfunction(sparse_test,weight)  "
   ]
  },
  {
   "cell_type": "code",
   "execution_count": 113,
   "metadata": {},
   "outputs": [],
   "source": [
    "#add 1 to class predicted\n",
    "for i in range(6774):\n",
    "    coltest[i]=coltest[i]+1"
   ]
  },
  {
   "cell_type": "code",
   "execution_count": 115,
   "metadata": {},
   "outputs": [],
   "source": [
    "df = pd.DataFrame({\"id\" : documents, \"class\" : coltest})\n",
    "df.to_csv(r'C:\\Users\\harsh\\Desktop\\iris.csv', index=False)"
   ]
  },
  
   "cell_type": "code",
   "execution_count": 43,
   "metadata": {},
   "outputs": [
    {
     "data": {
      "text/plain": [
       "(6774, 61188)"
      ]
     },
     "execution_count": 43,
     "metadata": {},
     "output_type": "execute_result"
    }
   ],
   "source": []
  },
  {
   "cell_type": "code",
   "execution_count": 46,
   "metadata": {},
   "outputs": [
    {
     "data": {
      "text/plain": [
       "(6774, 61189)"
      ]
     },
     "execution_count": 46,
     "metadata": {},
     "output_type": "execute_result"
    }
   ],
   "source": []
  },
  {
   "cell_type": "code",
   "execution_count": null,
   "metadata": {},
   "outputs": [],
   "source": []
  }
 ],
 "metadata": {
  "kernelspec": {
   "display_name": "Python 3",
   "language": "python",
   "name": "python3"
  },
  "language_info": {
   "codemirror_mode": {
    "name": "ipython",
    "version": 3
   },
   "file_extension": ".py",
   "mimetype": "text/x-python",
   "name": "python",
   "nbconvert_exporter": "python",
   "pygments_lexer": "ipython3",
   "version": "3.7.4"
  }
 },
 "nbformat": 4,
 "nbformat_minor": 2
}
